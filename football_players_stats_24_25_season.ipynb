{
  "nbformat": 4,
  "nbformat_minor": 0,
  "metadata": {
    "colab": {
      "provenance": []
    },
    "kernelspec": {
      "name": "python3",
      "display_name": "Python 3"
    },
    "language_info": {
      "name": "python"
    }
  },
  "cells": [
    {
      "cell_type": "code",
      "execution_count": 6,
      "metadata": {
        "id": "5acL1W61C2wX"
      },
      "outputs": [],
      "source": [
        "# Import the libraries\n",
        "import pandas as pd;\n",
        "import numpy as np;\n",
        "import matplotlib.pyplot as plt;\n",
        "import seaborn as sns;\n",
        "import kagglehub;"
      ]
    },
    {
      "cell_type": "code",
      "source": [
        "# Download latest version of the dataset\n",
        "path = kagglehub.dataset_download(\"hubertsidorowicz/football-players-stats-2024-2025\");\n",
        "\n",
        "data = pd.read_csv(path + \"/players_data_light-2024_2025.csv\");\n",
        "print(data.head());"
      ],
      "metadata": {
        "colab": {
          "base_uri": "https://localhost:8080/"
        },
        "id": "o9fMp-zfDJIw",
        "outputId": "50c27346-8083-42a7-9719-becbdfc61bc9"
      },
      "execution_count": 15,
      "outputs": [
        {
          "output_type": "stream",
          "name": "stdout",
          "text": [
            "Using Colab cache for faster access to the 'football-players-stats-2024-2025' dataset.\n",
            "   Rk             Player   Nation    Pos        Squad                Comp  \\\n",
            "0   1         Max Aarons  eng ENG     DF  Bournemouth  eng Premier League   \n",
            "1   2         Max Aarons  eng ENG  DF,MF     Valencia          es La Liga   \n",
            "2   3     Rodrigo Abajas   es ESP     DF     Valencia          es La Liga   \n",
            "3   4     James Abankwah   ie IRL  DF,MF      Udinese          it Serie A   \n",
            "4   5  Keyliane Abdallah   fr FRA     FW    Marseille          fr Ligue 1   \n",
            "\n",
            "    Age    Born  MP  Starts  ...  Att (GK)  Thr  Launch%  AvgLen  Opp  Stp  \\\n",
            "0  24.0  2000.0   3       1  ...       NaN  NaN      NaN     NaN  NaN  NaN   \n",
            "1  24.0  2000.0   4       1  ...       NaN  NaN      NaN     NaN  NaN  NaN   \n",
            "2  21.0  2003.0   1       1  ...       NaN  NaN      NaN     NaN  NaN  NaN   \n",
            "3  20.0  2004.0   6       0  ...       NaN  NaN      NaN     NaN  NaN  NaN   \n",
            "4  18.0  2006.0   1       0  ...       NaN  NaN      NaN     NaN  NaN  NaN   \n",
            "\n",
            "   Stp%  #OPA  #OPA/90  AvgDist  \n",
            "0   NaN   NaN      NaN      NaN  \n",
            "1   NaN   NaN      NaN      NaN  \n",
            "2   NaN   NaN      NaN      NaN  \n",
            "3   NaN   NaN      NaN      NaN  \n",
            "4   NaN   NaN      NaN      NaN  \n",
            "\n",
            "[5 rows x 165 columns]\n"
          ]
        }
      ]
    }
  ]
}